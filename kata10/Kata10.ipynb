{
 "cells": [
  {
   "cell_type": "markdown",
   "metadata": {},
   "source": [
    "# Kata 10\n",
    "## Traceback"
   ]
  },
  {
   "cell_type": "code",
   "execution_count": 10,
   "metadata": {},
   "outputs": [
    {
     "ename": "FileNotFoundError",
     "evalue": "[Errno 2] No such file or directory: '/some/path/to/arc.png'",
     "output_type": "error",
     "traceback": [
      "\u001b[1;31m---------------------------------------------------------------------------\u001b[0m",
      "\u001b[1;31mFileNotFoundError\u001b[0m                         Traceback (most recent call last)",
      "\u001b[1;32mc:\\Users\\David\\Documents\\curso\\Launch X\\Kataas propias\\Kata10.ipynb Cell 2'\u001b[0m in \u001b[0;36m<module>\u001b[1;34m\u001b[0m\n\u001b[1;32m----> <a href='vscode-notebook-cell:/c%3A/Users/David/Documents/curso/Launch%20X/Kataas%20propias/Kata10.ipynb#ch0000002?line=0'>1</a>\u001b[0m \u001b[39mopen\u001b[39;49m (\u001b[39m\"\u001b[39;49m\u001b[39m/some/path/to/arc.png\u001b[39;49m\u001b[39m\"\u001b[39;49m)\n",
      "\u001b[1;31mFileNotFoundError\u001b[0m: [Errno 2] No such file or directory: '/some/path/to/arc.png'"
     ]
    }
   ],
   "source": [
    "open (\"/some/path/to/arc.png\")"
   ]
  },
  {
   "cell_type": "code",
   "execution_count": 11,
   "metadata": {},
   "outputs": [
    {
     "ename": "FileNotFoundError",
     "evalue": "[Errno 2] No such file or directory: '/path/to/mars.jpg'",
     "output_type": "error",
     "traceback": [
      "\u001b[1;31m---------------------------------------------------------------------------\u001b[0m",
      "\u001b[1;31mFileNotFoundError\u001b[0m                         Traceback (most recent call last)",
      "File \u001b[1;32m~\\Documents\\curso\\Launch X\\Kataas propias\\open.py:5\u001b[0m, in \u001b[0;36m<module>\u001b[1;34m\u001b[0m\n\u001b[0;32m      <a href='file:///~/Documents/curso/Launch%20X/Kataas%20propias/open.py?line=1'>2</a>\u001b[0m     \u001b[39mopen\u001b[39m(\u001b[39m\"\u001b[39m\u001b[39m/path/to/mars.jpg\u001b[39m\u001b[39m\"\u001b[39m)\n\u001b[0;32m      <a href='file:///~/Documents/curso/Launch%20X/Kataas%20propias/open.py?line=3'>4</a>\u001b[0m \u001b[39mif\u001b[39;00m \u001b[39m__name__\u001b[39m \u001b[39m==\u001b[39m \u001b[39m'\u001b[39m\u001b[39m__main__\u001b[39m\u001b[39m'\u001b[39m:\n\u001b[1;32m----> <a href='file:///~/Documents/curso/Launch%20X/Kataas%20propias/open.py?line=4'>5</a>\u001b[0m     main()\n",
      "File \u001b[1;32m~\\Documents\\curso\\Launch X\\Kataas propias\\open.py:2\u001b[0m, in \u001b[0;36mmain\u001b[1;34m()\u001b[0m\n\u001b[0;32m      <a href='file:///~/Documents/curso/Launch%20X/Kataas%20propias/open.py?line=0'>1</a>\u001b[0m \u001b[39mdef\u001b[39;00m \u001b[39mmain\u001b[39m():\n\u001b[1;32m----> <a href='file:///~/Documents/curso/Launch%20X/Kataas%20propias/open.py?line=1'>2</a>\u001b[0m     \u001b[39mopen\u001b[39;49m(\u001b[39m\"\u001b[39;49m\u001b[39m/path/to/mars.jpg\u001b[39;49m\u001b[39m\"\u001b[39;49m)\n",
      "\u001b[1;31mFileNotFoundError\u001b[0m: [Errno 2] No such file or directory: '/path/to/mars.jpg'"
     ]
    }
   ],
   "source": [
    "run open.py"
   ]
  },
  {
   "cell_type": "markdown",
   "metadata": {},
   "source": [
    "## Controlando excepciones "
   ]
  },
  {
   "cell_type": "code",
   "execution_count": 12,
   "metadata": {},
   "outputs": [
    {
     "name": "stdout",
     "output_type": "stream",
     "text": [
      "El documento que buscas no se encuentra!!\n"
     ]
    }
   ],
   "source": [
    "try :\n",
    "    open (\"/some/path/to/file.png\")\n",
    "except FileNotFoundError:\n",
    "    print (\"El documento que buscas no se encuentra!!\")"
   ]
  },
  {
   "cell_type": "code",
   "execution_count": 3,
   "metadata": {},
   "outputs": [
    {
     "name": "stdout",
     "output_type": "stream",
     "text": [
      "No se encuentra config.txt\n"
     ]
    }
   ],
   "source": [
    "run config.py"
   ]
  },
  {
   "cell_type": "code",
   "execution_count": 13,
   "metadata": {},
   "outputs": [
    {
     "name": "stdout",
     "output_type": "stream",
     "text": [
      "Encontramos config.txt pero es un directorio, no podemos leerlo!\n"
     ]
    }
   ],
   "source": [
    "run config.py"
   ]
  },
  {
   "cell_type": "code",
   "execution_count": 15,
   "metadata": {},
   "outputs": [
    {
     "name": "stdout",
     "output_type": "stream",
     "text": [
      "tengo un problema para leer el documento: [Errno 2] No such file or directory: 'open.jpg'\n"
     ]
    }
   ],
   "source": [
    "try: \n",
    "    open('open.jpg')\n",
    "except FileNotFoundError as err:\n",
    "    print('tengo un problema para leer el documento:', err)"
   ]
  },
  {
   "cell_type": "code",
   "execution_count": 18,
   "metadata": {},
   "outputs": [
    {
     "name": "stdout",
     "output_type": "stream",
     "text": [
      "Econtramos config.txt pero no se puede leer\n"
     ]
    }
   ],
   "source": [
    "try:\n",
    "    open(\"config.txt\")\n",
    "except OSError as err:\n",
    "    if err. errno == 2:\n",
    "        print(\"No escontramos config.txt!!\")\n",
    "    elif err.errno == 13:\n",
    "        print (\"Econtramos config.txt pero no se puede leer\")"
   ]
  },
  {
   "cell_type": "markdown",
   "metadata": {},
   "source": [
    "## Generacion de excepciones "
   ]
  },
  {
   "cell_type": "code",
   "execution_count": 21,
   "metadata": {},
   "outputs": [
    {
     "data": {
      "text/plain": [
       "' Total water left after 2 days is -10 liters'"
      ]
     },
     "execution_count": 21,
     "metadata": {},
     "output_type": "execute_result"
    }
   ],
   "source": [
    "def water_left(astronauts, water_left, day_left):\n",
    "    daily_usage = astronauts * 11\n",
    "    total_usage = daily_usage * day_left\n",
    "    total_water_left = water_left - total_usage\n",
    "    return f\" Total water left after {day_left} days is {total_water_left} liters\"\n",
    "water_left (5, 100,2)"
   ]
  },
  {
   "cell_type": "code",
   "execution_count": 24,
   "metadata": {},
   "outputs": [
    {
     "ename": "RuntimeError",
     "evalue": "There is no t enough water for 5 astronauts after 2 days!!",
     "output_type": "error",
     "traceback": [
      "\u001b[1;31m---------------------------------------------------------------------------\u001b[0m",
      "\u001b[1;31mRuntimeError\u001b[0m                              Traceback (most recent call last)",
      "\u001b[1;32mc:\\Users\\David\\Documents\\curso\\Launch X\\Kataas propias\\kata10\\Kata10.ipynb Cell 12'\u001b[0m in \u001b[0;36m<module>\u001b[1;34m\u001b[0m\n\u001b[0;32m      <a href='vscode-notebook-cell:/c%3A/Users/David/Documents/curso/Launch%20X/Kataas%20propias/kata10/Kata10.ipynb#ch0000011?line=5'>6</a>\u001b[0m         \u001b[39mraise\u001b[39;00m \u001b[39mRuntimeError\u001b[39;00m(\u001b[39mf\u001b[39m\u001b[39m\"\u001b[39m\u001b[39mThere is no t enough water for \u001b[39m\u001b[39m{\u001b[39;00mastronauts\u001b[39m}\u001b[39;00m\u001b[39m astronauts after \u001b[39m\u001b[39m{\u001b[39;00mday_left\u001b[39m}\u001b[39;00m\u001b[39m days!!\u001b[39m\u001b[39m\"\u001b[39m)\n\u001b[0;32m      <a href='vscode-notebook-cell:/c%3A/Users/David/Documents/curso/Launch%20X/Kataas%20propias/kata10/Kata10.ipynb#ch0000011?line=6'>7</a>\u001b[0m     \u001b[39mreturn\u001b[39;00m \u001b[39mf\u001b[39m\u001b[39m\"\u001b[39m\u001b[39m Total water left after \u001b[39m\u001b[39m{\u001b[39;00mday_left\u001b[39m}\u001b[39;00m\u001b[39m days is \u001b[39m\u001b[39m{\u001b[39;00mtotal_water_left\u001b[39m}\u001b[39;00m\u001b[39m liters\u001b[39m\u001b[39m\"\u001b[39m\n\u001b[1;32m----> <a href='vscode-notebook-cell:/c%3A/Users/David/Documents/curso/Launch%20X/Kataas%20propias/kata10/Kata10.ipynb#ch0000011?line=8'>9</a>\u001b[0m water_left (\u001b[39m5\u001b[39;49m , \u001b[39m100\u001b[39;49m, \u001b[39m2\u001b[39;49m)\n",
      "\u001b[1;32mc:\\Users\\David\\Documents\\curso\\Launch X\\Kataas propias\\kata10\\Kata10.ipynb Cell 12'\u001b[0m in \u001b[0;36mwater_left\u001b[1;34m(astronauts, water_left, day_left)\u001b[0m\n\u001b[0;32m      <a href='vscode-notebook-cell:/c%3A/Users/David/Documents/curso/Launch%20X/Kataas%20propias/kata10/Kata10.ipynb#ch0000011?line=3'>4</a>\u001b[0m total_water_left \u001b[39m=\u001b[39m water_left \u001b[39m-\u001b[39m total_usage\n\u001b[0;32m      <a href='vscode-notebook-cell:/c%3A/Users/David/Documents/curso/Launch%20X/Kataas%20propias/kata10/Kata10.ipynb#ch0000011?line=4'>5</a>\u001b[0m \u001b[39mif\u001b[39;00m total_water_left \u001b[39m<\u001b[39m \u001b[39m0\u001b[39m:\n\u001b[1;32m----> <a href='vscode-notebook-cell:/c%3A/Users/David/Documents/curso/Launch%20X/Kataas%20propias/kata10/Kata10.ipynb#ch0000011?line=5'>6</a>\u001b[0m     \u001b[39mraise\u001b[39;00m \u001b[39mRuntimeError\u001b[39;00m(\u001b[39mf\u001b[39m\u001b[39m\"\u001b[39m\u001b[39mThere is no t enough water for \u001b[39m\u001b[39m{\u001b[39;00mastronauts\u001b[39m}\u001b[39;00m\u001b[39m astronauts after \u001b[39m\u001b[39m{\u001b[39;00mday_left\u001b[39m}\u001b[39;00m\u001b[39m days!!\u001b[39m\u001b[39m\"\u001b[39m)\n\u001b[0;32m      <a href='vscode-notebook-cell:/c%3A/Users/David/Documents/curso/Launch%20X/Kataas%20propias/kata10/Kata10.ipynb#ch0000011?line=6'>7</a>\u001b[0m \u001b[39mreturn\u001b[39;00m \u001b[39mf\u001b[39m\u001b[39m\"\u001b[39m\u001b[39m Total water left after \u001b[39m\u001b[39m{\u001b[39;00mday_left\u001b[39m}\u001b[39;00m\u001b[39m days is \u001b[39m\u001b[39m{\u001b[39;00mtotal_water_left\u001b[39m}\u001b[39;00m\u001b[39m liters\u001b[39m\u001b[39m\"\u001b[39m\n",
      "\u001b[1;31mRuntimeError\u001b[0m: There is no t enough water for 5 astronauts after 2 days!!"
     ]
    }
   ],
   "source": [
    "def water_left(astronauts, water_left, day_left):\n",
    "    daily_usage = astronauts * 11\n",
    "    total_usage = daily_usage * day_left\n",
    "    total_water_left = water_left - total_usage\n",
    "    if total_water_left < 0:\n",
    "        raise RuntimeError(f\"There is no t enough water for {astronauts} astronauts after {day_left} days!!\")\n",
    "    return f\" Total water left after {day_left} days is {total_water_left} liters\"\n",
    "\n",
    "water_left (5 , 100, 2)"
   ]
  },
  {
   "cell_type": "code",
   "execution_count": 25,
   "metadata": {},
   "outputs": [
    {
     "ename": "NameError",
     "evalue": "name 'alert_navegation_system' is not defined",
     "output_type": "error",
     "traceback": [
      "\u001b[1;31m---------------------------------------------------------------------------\u001b[0m",
      "\u001b[1;31mRuntimeError\u001b[0m                              Traceback (most recent call last)",
      "\u001b[1;32mc:\\Users\\David\\Documents\\curso\\Launch X\\Kataas propias\\kata10\\Kata10.ipynb Cell 13'\u001b[0m in \u001b[0;36m<module>\u001b[1;34m\u001b[0m\n\u001b[0;32m      <a href='vscode-notebook-cell:/c%3A/Users/David/Documents/curso/Launch%20X/Kataas%20propias/kata10/Kata10.ipynb#ch0000012?line=0'>1</a>\u001b[0m \u001b[39mtry\u001b[39;00m: \n\u001b[1;32m----> <a href='vscode-notebook-cell:/c%3A/Users/David/Documents/curso/Launch%20X/Kataas%20propias/kata10/Kata10.ipynb#ch0000012?line=1'>2</a>\u001b[0m     water_left(\u001b[39m5\u001b[39;49m,\u001b[39m100\u001b[39;49m,\u001b[39m2\u001b[39;49m)\n\u001b[0;32m      <a href='vscode-notebook-cell:/c%3A/Users/David/Documents/curso/Launch%20X/Kataas%20propias/kata10/Kata10.ipynb#ch0000012?line=2'>3</a>\u001b[0m \u001b[39mexcept\u001b[39;00m \u001b[39mRuntimeError\u001b[39;00m \u001b[39mas\u001b[39;00m err:\n",
      "\u001b[1;32mc:\\Users\\David\\Documents\\curso\\Launch X\\Kataas propias\\kata10\\Kata10.ipynb Cell 12'\u001b[0m in \u001b[0;36mwater_left\u001b[1;34m(astronauts, water_left, day_left)\u001b[0m\n\u001b[0;32m      <a href='vscode-notebook-cell:/c%3A/Users/David/Documents/curso/Launch%20X/Kataas%20propias/kata10/Kata10.ipynb#ch0000011?line=4'>5</a>\u001b[0m \u001b[39mif\u001b[39;00m total_water_left \u001b[39m<\u001b[39m \u001b[39m0\u001b[39m:\n\u001b[1;32m----> <a href='vscode-notebook-cell:/c%3A/Users/David/Documents/curso/Launch%20X/Kataas%20propias/kata10/Kata10.ipynb#ch0000011?line=5'>6</a>\u001b[0m     \u001b[39mraise\u001b[39;00m \u001b[39mRuntimeError\u001b[39;00m(\u001b[39mf\u001b[39m\u001b[39m\"\u001b[39m\u001b[39mThere is no t enough water for \u001b[39m\u001b[39m{\u001b[39;00mastronauts\u001b[39m}\u001b[39;00m\u001b[39m astronauts after \u001b[39m\u001b[39m{\u001b[39;00mday_left\u001b[39m}\u001b[39;00m\u001b[39m days!!\u001b[39m\u001b[39m\"\u001b[39m)\n\u001b[0;32m      <a href='vscode-notebook-cell:/c%3A/Users/David/Documents/curso/Launch%20X/Kataas%20propias/kata10/Kata10.ipynb#ch0000011?line=6'>7</a>\u001b[0m \u001b[39mreturn\u001b[39;00m \u001b[39mf\u001b[39m\u001b[39m\"\u001b[39m\u001b[39m Total water left after \u001b[39m\u001b[39m{\u001b[39;00mday_left\u001b[39m}\u001b[39;00m\u001b[39m days is \u001b[39m\u001b[39m{\u001b[39;00mtotal_water_left\u001b[39m}\u001b[39;00m\u001b[39m liters\u001b[39m\u001b[39m\"\u001b[39m\n",
      "\u001b[1;31mRuntimeError\u001b[0m: There is no t enough water for 5 astronauts after 2 days!!",
      "\nDuring handling of the above exception, another exception occurred:\n",
      "\u001b[1;31mNameError\u001b[0m                                 Traceback (most recent call last)",
      "\u001b[1;32mc:\\Users\\David\\Documents\\curso\\Launch X\\Kataas propias\\kata10\\Kata10.ipynb Cell 13'\u001b[0m in \u001b[0;36m<module>\u001b[1;34m\u001b[0m\n\u001b[0;32m      <a href='vscode-notebook-cell:/c%3A/Users/David/Documents/curso/Launch%20X/Kataas%20propias/kata10/Kata10.ipynb#ch0000012?line=1'>2</a>\u001b[0m     water_left(\u001b[39m5\u001b[39m,\u001b[39m100\u001b[39m,\u001b[39m2\u001b[39m)\n\u001b[0;32m      <a href='vscode-notebook-cell:/c%3A/Users/David/Documents/curso/Launch%20X/Kataas%20propias/kata10/Kata10.ipynb#ch0000012?line=2'>3</a>\u001b[0m \u001b[39mexcept\u001b[39;00m \u001b[39mRuntimeError\u001b[39;00m \u001b[39mas\u001b[39;00m err:\n\u001b[1;32m----> <a href='vscode-notebook-cell:/c%3A/Users/David/Documents/curso/Launch%20X/Kataas%20propias/kata10/Kata10.ipynb#ch0000012?line=3'>4</a>\u001b[0m     alert_navegation_system(err)\n",
      "\u001b[1;31mNameError\u001b[0m: name 'alert_navegation_system' is not defined"
     ]
    }
   ],
   "source": [
    "try: \n",
    "    water_left(5,100,2)\n",
    "except RuntimeError as err:\n",
    "    alert_navegation_system(err)"
   ]
  },
  {
   "cell_type": "code",
   "execution_count": 27,
   "metadata": {},
   "outputs": [],
   "source": [
    "def water_left (astronauts, water_left, day_left):\n",
    "    for argument in [astronauts, water_left, day_left]:\n",
    "        try:\n",
    "            argument / 10\n",
    "            \n",
    "        except TypeError:\n",
    "            raise TypeError (f'all argumen must be of type int, but recived: {argument}')\n",
    "\n",
    "    daily_usage = astronauts * 11\n",
    "    total_usage = daily_usage * day_left\n",
    "    total_water_left = water_left - total_usage\n",
    "\n",
    "    if total_water_left < 0:\n",
    "\n",
    "        raise RuntimeError(f\"There is no t enough water for {astronauts} astronauts after {day_left} days!!\")\n",
    "    \n",
    "    return f\" Total water left after {day_left} days is {total_water_left} liters\"\n",
    "\n",
    "            "
   ]
  },
  {
   "cell_type": "code",
   "execution_count": 28,
   "metadata": {},
   "outputs": [
    {
     "ename": "TypeError",
     "evalue": "all argumen must be of type int, but recived: None",
     "output_type": "error",
     "traceback": [
      "\u001b[1;31m---------------------------------------------------------------------------\u001b[0m",
      "\u001b[1;31mTypeError\u001b[0m                                 Traceback (most recent call last)",
      "\u001b[1;32mc:\\Users\\David\\Documents\\curso\\Launch X\\Kataas propias\\kata10\\Kata10.ipynb Cell 14'\u001b[0m in \u001b[0;36mwater_left\u001b[1;34m(astronauts, water_left, day_left)\u001b[0m\n\u001b[0;32m      <a href='vscode-notebook-cell:/c%3A/Users/David/Documents/curso/Launch%20X/Kataas%20propias/kata10/Kata10.ipynb#ch0000013?line=2'>3</a>\u001b[0m \u001b[39mtry\u001b[39;00m:\n\u001b[1;32m----> <a href='vscode-notebook-cell:/c%3A/Users/David/Documents/curso/Launch%20X/Kataas%20propias/kata10/Kata10.ipynb#ch0000013?line=3'>4</a>\u001b[0m     argument \u001b[39m/\u001b[39;49m \u001b[39m10\u001b[39;49m\n\u001b[0;32m      <a href='vscode-notebook-cell:/c%3A/Users/David/Documents/curso/Launch%20X/Kataas%20propias/kata10/Kata10.ipynb#ch0000013?line=5'>6</a>\u001b[0m \u001b[39mexcept\u001b[39;00m \u001b[39mTypeError\u001b[39;00m:\n",
      "\u001b[1;31mTypeError\u001b[0m: unsupported operand type(s) for /: 'NoneType' and 'int'",
      "\nDuring handling of the above exception, another exception occurred:\n",
      "\u001b[1;31mTypeError\u001b[0m                                 Traceback (most recent call last)",
      "\u001b[1;32mc:\\Users\\David\\Documents\\curso\\Launch X\\Kataas propias\\kata10\\Kata10.ipynb Cell 15'\u001b[0m in \u001b[0;36m<module>\u001b[1;34m\u001b[0m\n\u001b[1;32m----> <a href='vscode-notebook-cell:/c%3A/Users/David/Documents/curso/Launch%20X/Kataas%20propias/kata10/Kata10.ipynb#ch0000014?line=0'>1</a>\u001b[0m water_left (\u001b[39m3\u001b[39;49m , \u001b[39m200\u001b[39;49m, \u001b[39mNone\u001b[39;49;00m)\n",
      "\u001b[1;32mc:\\Users\\David\\Documents\\curso\\Launch X\\Kataas propias\\kata10\\Kata10.ipynb Cell 14'\u001b[0m in \u001b[0;36mwater_left\u001b[1;34m(astronauts, water_left, day_left)\u001b[0m\n\u001b[0;32m      <a href='vscode-notebook-cell:/c%3A/Users/David/Documents/curso/Launch%20X/Kataas%20propias/kata10/Kata10.ipynb#ch0000013?line=3'>4</a>\u001b[0m         argument \u001b[39m/\u001b[39m \u001b[39m10\u001b[39m\n\u001b[0;32m      <a href='vscode-notebook-cell:/c%3A/Users/David/Documents/curso/Launch%20X/Kataas%20propias/kata10/Kata10.ipynb#ch0000013?line=5'>6</a>\u001b[0m     \u001b[39mexcept\u001b[39;00m \u001b[39mTypeError\u001b[39;00m:\n\u001b[1;32m----> <a href='vscode-notebook-cell:/c%3A/Users/David/Documents/curso/Launch%20X/Kataas%20propias/kata10/Kata10.ipynb#ch0000013?line=6'>7</a>\u001b[0m         \u001b[39mraise\u001b[39;00m \u001b[39mTypeError\u001b[39;00m (\u001b[39mf\u001b[39m\u001b[39m'\u001b[39m\u001b[39mall argumen must be of type int, but recived: \u001b[39m\u001b[39m{\u001b[39;00margument\u001b[39m}\u001b[39;00m\u001b[39m'\u001b[39m)\n\u001b[0;32m      <a href='vscode-notebook-cell:/c%3A/Users/David/Documents/curso/Launch%20X/Kataas%20propias/kata10/Kata10.ipynb#ch0000013?line=8'>9</a>\u001b[0m daily_usage \u001b[39m=\u001b[39m astronauts \u001b[39m*\u001b[39m \u001b[39m11\u001b[39m\n\u001b[0;32m     <a href='vscode-notebook-cell:/c%3A/Users/David/Documents/curso/Launch%20X/Kataas%20propias/kata10/Kata10.ipynb#ch0000013?line=9'>10</a>\u001b[0m total_usage \u001b[39m=\u001b[39m daily_usage \u001b[39m*\u001b[39m day_left\n",
      "\u001b[1;31mTypeError\u001b[0m: all argumen must be of type int, but recived: None"
     ]
    }
   ],
   "source": [
    "water_left (3 , 200, None)"
   ]
  }
 ],
 "metadata": {
  "interpreter": {
   "hash": "6e82c4c6859ff44c5ac5d0b812fe5a23106e52b81a5db5555ef903c501738654"
  },
  "kernelspec": {
   "display_name": "Python 3.10.2 64-bit",
   "language": "python",
   "name": "python3"
  },
  "language_info": {
   "codemirror_mode": {
    "name": "ipython",
    "version": 3
   },
   "file_extension": ".py",
   "mimetype": "text/x-python",
   "name": "python",
   "nbconvert_exporter": "python",
   "pygments_lexer": "ipython3",
   "version": "3.10.2"
  },
  "orig_nbformat": 4
 },
 "nbformat": 4,
 "nbformat_minor": 2
}
